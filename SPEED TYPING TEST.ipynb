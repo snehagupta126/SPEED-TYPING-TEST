{
 "cells": [
  {
   "cell_type": "code",
   "execution_count": 3,
   "id": "e664a7dc",
   "metadata": {},
   "outputs": [
    {
     "name": "stdout",
     "output_type": "stream",
     "text": [
      "5.2543274000054225\n",
      "3.7955512000480667\n",
      "Wrong Input\n",
      "Wrong Input\n"
     ]
    }
   ],
   "source": [
    "from tkinter import *\n",
    "from timeit import default_timer as timer\n",
    "import random\n",
    "\n",
    "\n",
    "window = Tk()\n",
    "\n",
    "\n",
    "window.geometry(\"450x200\")\n",
    "\n",
    "x = 0\n",
    "\n",
    "\n",
    "def game():\n",
    "\tglobal x\n",
    "\tif x == 0:\n",
    "\t\twindow.destroy()\n",
    "\t\tx = x+1\n",
    "\n",
    "\t# defining function for results of test\n",
    "\tdef check_result():\n",
    "\t\tif entry.get() == words[word]:\n",
    "\n",
    "\t\t\t# here start time is when the window\n",
    "\t\t\t# is opened and end time is when\n",
    "\t\t\t# window is destroyed\n",
    "\t\t\tend = timer()\n",
    "\n",
    "\t\t\t# we deduct the start time from end\n",
    "\t\t\t# time and calculate results using\n",
    "\t\t\t# timeit function\n",
    "\t\t\tprint(end-start)\n",
    "\t\telse:\n",
    "\t\t\tprint(\"Wrong Input\")\n",
    "\n",
    "\twords = ['programming', 'coding', 'algorithm',\n",
    "\t\t\t'systems', 'python', 'software']\n",
    "\n",
    "\t# Give random words for testing the speed of user\n",
    "\tword = random.randint(0, (len(words)-1))\n",
    "\n",
    "\t# start timer using timeit function\n",
    "\tstart = timer()\n",
    "\twindows = Tk()\n",
    "\twindows.geometry(\"450x200\")\n",
    "\n",
    "\t# use label method of tkinter for labeling in window\n",
    "\tx2 = Label(windows, text=words[word], font=\"times 20\")\n",
    "\n",
    "\t# place of labeling in window\n",
    "\tx2.place(x=150, y=10)\n",
    "\tx3 = Label(windows, text=\"Start Typing\", font=\"times 20\")\n",
    "\tx3.place(x=10, y=50)\n",
    "\n",
    "\tentry = Entry(windows)\n",
    "\tentry.place(x=280, y=55)\n",
    "\n",
    "\t# buttons to submit output and check results\n",
    "\tb2 = Button(windows, text=\"Done\",\n",
    "\t\t\t\tcommand=check_result, width=12, bg='grey')\n",
    "\tb2.place(x=150, y=100)\n",
    "\n",
    "\tb3 = Button(windows, text=\"Try Again\",\n",
    "\t\t\t\tcommand=game, width=12, bg='grey')\n",
    "\tb3.place(x=250, y=100)\n",
    "\twindows.mainloop()\n",
    "\n",
    "\n",
    "x1 = Label(window, text=\"Lets start playing..\", font=\"times 20\")\n",
    "x1.place(x=10, y=50)\n",
    "\n",
    "b1 = Button(window, text=\"Go\", command=game, width=12, bg='grey')\n",
    "b1.place(x=150, y=100)\n",
    "\n",
    "# calling window\n",
    "window.mainloop()\n"
   ]
  },
  {
   "cell_type": "code",
   "execution_count": null,
   "id": "425d74d3",
   "metadata": {},
   "outputs": [],
   "source": []
  }
 ],
 "metadata": {
  "kernelspec": {
   "display_name": "Python 3 (ipykernel)",
   "language": "python",
   "name": "python3"
  },
  "language_info": {
   "codemirror_mode": {
    "name": "ipython",
    "version": 3
   },
   "file_extension": ".py",
   "mimetype": "text/x-python",
   "name": "python",
   "nbconvert_exporter": "python",
   "pygments_lexer": "ipython3",
   "version": "3.10.9"
  }
 },
 "nbformat": 4,
 "nbformat_minor": 5
}
